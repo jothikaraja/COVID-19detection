{
  "nbformat": 4,
  "nbformat_minor": 0,
  "metadata": {
    "colab": {
      "name": "label_creation.ipynb",
      "provenance": [],
      "collapsed_sections": [],
      "mount_file_id": "1NRFputMANplu01DFLF_fPgWl14dPOHgc",
      "authorship_tag": "ABX9TyMtAFYAqW5Tqx9XGpFc7BFI",
      "include_colab_link": true
    },
    "kernelspec": {
      "name": "python3",
      "display_name": "Python 3"
    },
    "language_info": {
      "name": "python"
    },
    "accelerator": "GPU"
  },
  "cells": [
    {
      "cell_type": "markdown",
      "metadata": {
        "id": "view-in-github",
        "colab_type": "text"
      },
      "source": [
        "<a href=\"https://colab.research.google.com/github/rshamsini/COVID-19detection/blob/main/label_creation.ipynb\" target=\"_parent\"><img src=\"https://colab.research.google.com/assets/colab-badge.svg\" alt=\"Open In Colab\"/></a>"
      ]
    },
    {
      "cell_type": "code",
      "metadata": {
        "id": "cslVC9Me7rgY",
        "colab": {
          "base_uri": "https://localhost:8080/"
        },
        "outputId": "3b5add6f-a282-448f-c45d-ce3fc0595a76"
      },
      "source": [
        "#Mounting the Google drive\n",
        "from google.colab import drive\n",
        "drive.mount('/content/drive')"
      ],
      "execution_count": null,
      "outputs": [
        {
          "output_type": "stream",
          "text": [
            "Drive already mounted at /content/drive; to attempt to forcibly remount, call drive.mount(\"/content/drive\", force_remount=True).\n"
          ],
          "name": "stdout"
        }
      ]
    },
    {
      "cell_type": "code",
      "metadata": {
        "id": "NNAms6ZN7jsB"
      },
      "source": [
        "import numpy as np #mathematical operations over arrays\n",
        "import pandas as pd #a powerful data analysis and manipulation library for Python\n",
        "import os\n",
        "import glob #glob module is used to retrieve files/pathnames matching a specified pattern.\n",
        "from pathlib import Path"
      ],
      "execution_count": null,
      "outputs": []
    },
    {
      "cell_type": "code",
      "metadata": {
        "id": "6RzuEXAo71QW"
      },
      "source": [
        "#read train_image_level.csv\n",
        "\n",
        "data = pd.read_csv('/content/drive/MyDrive/Optum/train_image_level.csv')"
      ],
      "execution_count": null,
      "outputs": []
    },
    {
      "cell_type": "code",
      "metadata": {
        "colab": {
          "base_uri": "https://localhost:8080/",
          "height": 275
        },
        "id": "hnwLGK1V77-3",
        "outputId": "7853793d-042f-4f70-b620-f3ad1644b848"
      },
      "source": [
        "data.head()"
      ],
      "execution_count": null,
      "outputs": [
        {
          "output_type": "execute_result",
          "data": {
            "text/html": [
              "<div>\n",
              "<style scoped>\n",
              "    .dataframe tbody tr th:only-of-type {\n",
              "        vertical-align: middle;\n",
              "    }\n",
              "\n",
              "    .dataframe tbody tr th {\n",
              "        vertical-align: top;\n",
              "    }\n",
              "\n",
              "    .dataframe thead th {\n",
              "        text-align: right;\n",
              "    }\n",
              "</style>\n",
              "<table border=\"1\" class=\"dataframe\">\n",
              "  <thead>\n",
              "    <tr style=\"text-align: right;\">\n",
              "      <th></th>\n",
              "      <th>id</th>\n",
              "      <th>boxes</th>\n",
              "      <th>label</th>\n",
              "      <th>StudyInstanceUID</th>\n",
              "    </tr>\n",
              "  </thead>\n",
              "  <tbody>\n",
              "    <tr>\n",
              "      <th>0</th>\n",
              "      <td>000a312787f2_image</td>\n",
              "      <td>[{'x': 789.28836, 'y': 582.43035, 'width': 102...</td>\n",
              "      <td>opacity 1 789.28836 582.43035 1815.94498 2499....</td>\n",
              "      <td>5776db0cec75</td>\n",
              "    </tr>\n",
              "    <tr>\n",
              "      <th>1</th>\n",
              "      <td>000c3a3f293f_image</td>\n",
              "      <td>NaN</td>\n",
              "      <td>none 1 0 0 1 1</td>\n",
              "      <td>ff0879eb20ed</td>\n",
              "    </tr>\n",
              "    <tr>\n",
              "      <th>2</th>\n",
              "      <td>0012ff7358bc_image</td>\n",
              "      <td>[{'x': 677.42216, 'y': 197.97662, 'width': 867...</td>\n",
              "      <td>opacity 1 677.42216 197.97662 1545.21983 1197....</td>\n",
              "      <td>9d514ce429a7</td>\n",
              "    </tr>\n",
              "    <tr>\n",
              "      <th>3</th>\n",
              "      <td>001398f4ff4f_image</td>\n",
              "      <td>[{'x': 2729, 'y': 2181.33331, 'width': 948.000...</td>\n",
              "      <td>opacity 1 2729 2181.33331 3677.00012 2785.33331</td>\n",
              "      <td>28dddc8559b2</td>\n",
              "    </tr>\n",
              "    <tr>\n",
              "      <th>4</th>\n",
              "      <td>001bd15d1891_image</td>\n",
              "      <td>[{'x': 623.23328, 'y': 1050, 'width': 714, 'he...</td>\n",
              "      <td>opacity 1 623.23328 1050 1337.23328 2156 opaci...</td>\n",
              "      <td>dfd9fdd85a3e</td>\n",
              "    </tr>\n",
              "  </tbody>\n",
              "</table>\n",
              "</div>"
            ],
            "text/plain": [
              "                   id  ... StudyInstanceUID\n",
              "0  000a312787f2_image  ...     5776db0cec75\n",
              "1  000c3a3f293f_image  ...     ff0879eb20ed\n",
              "2  0012ff7358bc_image  ...     9d514ce429a7\n",
              "3  001398f4ff4f_image  ...     28dddc8559b2\n",
              "4  001bd15d1891_image  ...     dfd9fdd85a3e\n",
              "\n",
              "[5 rows x 4 columns]"
            ]
          },
          "metadata": {
            "tags": []
          },
          "execution_count": 5
        }
      ]
    },
    {
      "cell_type": "code",
      "metadata": {
        "id": "FuvJBEuB78h9"
      },
      "source": [
        "#remove _image from id\n",
        "\n",
        "for i in range(len(data)):\n",
        "    t=data.loc[i,\"id\"]\n",
        "    data.loc[i,\"id\"]=t[:-6]"
      ],
      "execution_count": null,
      "outputs": []
    },
    {
      "cell_type": "code",
      "metadata": {
        "colab": {
          "base_uri": "https://localhost:8080/",
          "height": 275
        },
        "id": "pYMUOneC7-QM",
        "outputId": "2afdf9e5-2ed0-4cb0-acc1-bc986fd2dd4c"
      },
      "source": [
        "data.head()"
      ],
      "execution_count": null,
      "outputs": [
        {
          "output_type": "execute_result",
          "data": {
            "text/html": [
              "<div>\n",
              "<style scoped>\n",
              "    .dataframe tbody tr th:only-of-type {\n",
              "        vertical-align: middle;\n",
              "    }\n",
              "\n",
              "    .dataframe tbody tr th {\n",
              "        vertical-align: top;\n",
              "    }\n",
              "\n",
              "    .dataframe thead th {\n",
              "        text-align: right;\n",
              "    }\n",
              "</style>\n",
              "<table border=\"1\" class=\"dataframe\">\n",
              "  <thead>\n",
              "    <tr style=\"text-align: right;\">\n",
              "      <th></th>\n",
              "      <th>id</th>\n",
              "      <th>boxes</th>\n",
              "      <th>label</th>\n",
              "      <th>StudyInstanceUID</th>\n",
              "    </tr>\n",
              "  </thead>\n",
              "  <tbody>\n",
              "    <tr>\n",
              "      <th>0</th>\n",
              "      <td>000a312787f2</td>\n",
              "      <td>[{'x': 789.28836, 'y': 582.43035, 'width': 102...</td>\n",
              "      <td>opacity 1 789.28836 582.43035 1815.94498 2499....</td>\n",
              "      <td>5776db0cec75</td>\n",
              "    </tr>\n",
              "    <tr>\n",
              "      <th>1</th>\n",
              "      <td>000c3a3f293f</td>\n",
              "      <td>NaN</td>\n",
              "      <td>none 1 0 0 1 1</td>\n",
              "      <td>ff0879eb20ed</td>\n",
              "    </tr>\n",
              "    <tr>\n",
              "      <th>2</th>\n",
              "      <td>0012ff7358bc</td>\n",
              "      <td>[{'x': 677.42216, 'y': 197.97662, 'width': 867...</td>\n",
              "      <td>opacity 1 677.42216 197.97662 1545.21983 1197....</td>\n",
              "      <td>9d514ce429a7</td>\n",
              "    </tr>\n",
              "    <tr>\n",
              "      <th>3</th>\n",
              "      <td>001398f4ff4f</td>\n",
              "      <td>[{'x': 2729, 'y': 2181.33331, 'width': 948.000...</td>\n",
              "      <td>opacity 1 2729 2181.33331 3677.00012 2785.33331</td>\n",
              "      <td>28dddc8559b2</td>\n",
              "    </tr>\n",
              "    <tr>\n",
              "      <th>4</th>\n",
              "      <td>001bd15d1891</td>\n",
              "      <td>[{'x': 623.23328, 'y': 1050, 'width': 714, 'he...</td>\n",
              "      <td>opacity 1 623.23328 1050 1337.23328 2156 opaci...</td>\n",
              "      <td>dfd9fdd85a3e</td>\n",
              "    </tr>\n",
              "  </tbody>\n",
              "</table>\n",
              "</div>"
            ],
            "text/plain": [
              "             id  ... StudyInstanceUID\n",
              "0  000a312787f2  ...     5776db0cec75\n",
              "1  000c3a3f293f  ...     ff0879eb20ed\n",
              "2  0012ff7358bc  ...     9d514ce429a7\n",
              "3  001398f4ff4f  ...     28dddc8559b2\n",
              "4  001bd15d1891  ...     dfd9fdd85a3e\n",
              "\n",
              "[5 rows x 4 columns]"
            ]
          },
          "metadata": {
            "tags": []
          },
          "execution_count": 7
        }
      ]
    },
    {
      "cell_type": "code",
      "metadata": {
        "id": "AGbZMzYQ8ABB"
      },
      "source": [
        "#read train_study_level.csv\n",
        "\n",
        "data2 = pd.read_csv('/content/drive/MyDrive/Optum/train_study_level.csv')"
      ],
      "execution_count": null,
      "outputs": []
    },
    {
      "cell_type": "code",
      "metadata": {
        "colab": {
          "base_uri": "https://localhost:8080/",
          "height": 223
        },
        "id": "hMTNWJMo8B5b",
        "outputId": "4005840e-1ddf-4aae-9b44-65214882e4a5"
      },
      "source": [
        "data2.head()"
      ],
      "execution_count": null,
      "outputs": [
        {
          "output_type": "execute_result",
          "data": {
            "text/html": [
              "<div>\n",
              "<style scoped>\n",
              "    .dataframe tbody tr th:only-of-type {\n",
              "        vertical-align: middle;\n",
              "    }\n",
              "\n",
              "    .dataframe tbody tr th {\n",
              "        vertical-align: top;\n",
              "    }\n",
              "\n",
              "    .dataframe thead th {\n",
              "        text-align: right;\n",
              "    }\n",
              "</style>\n",
              "<table border=\"1\" class=\"dataframe\">\n",
              "  <thead>\n",
              "    <tr style=\"text-align: right;\">\n",
              "      <th></th>\n",
              "      <th>id</th>\n",
              "      <th>Negative for Pneumonia</th>\n",
              "      <th>Typical Appearance</th>\n",
              "      <th>Indeterminate Appearance</th>\n",
              "      <th>Atypical Appearance</th>\n",
              "    </tr>\n",
              "  </thead>\n",
              "  <tbody>\n",
              "    <tr>\n",
              "      <th>0</th>\n",
              "      <td>00086460a852_study</td>\n",
              "      <td>0</td>\n",
              "      <td>1</td>\n",
              "      <td>0</td>\n",
              "      <td>0</td>\n",
              "    </tr>\n",
              "    <tr>\n",
              "      <th>1</th>\n",
              "      <td>000c9c05fd14_study</td>\n",
              "      <td>0</td>\n",
              "      <td>0</td>\n",
              "      <td>0</td>\n",
              "      <td>1</td>\n",
              "    </tr>\n",
              "    <tr>\n",
              "      <th>2</th>\n",
              "      <td>00292f8c37bd_study</td>\n",
              "      <td>1</td>\n",
              "      <td>0</td>\n",
              "      <td>0</td>\n",
              "      <td>0</td>\n",
              "    </tr>\n",
              "    <tr>\n",
              "      <th>3</th>\n",
              "      <td>005057b3f880_study</td>\n",
              "      <td>1</td>\n",
              "      <td>0</td>\n",
              "      <td>0</td>\n",
              "      <td>0</td>\n",
              "    </tr>\n",
              "    <tr>\n",
              "      <th>4</th>\n",
              "      <td>0051d9b12e72_study</td>\n",
              "      <td>0</td>\n",
              "      <td>0</td>\n",
              "      <td>0</td>\n",
              "      <td>1</td>\n",
              "    </tr>\n",
              "  </tbody>\n",
              "</table>\n",
              "</div>"
            ],
            "text/plain": [
              "                   id  ...  Atypical Appearance\n",
              "0  00086460a852_study  ...                    0\n",
              "1  000c9c05fd14_study  ...                    1\n",
              "2  00292f8c37bd_study  ...                    0\n",
              "3  005057b3f880_study  ...                    0\n",
              "4  0051d9b12e72_study  ...                    1\n",
              "\n",
              "[5 rows x 5 columns]"
            ]
          },
          "metadata": {
            "tags": []
          },
          "execution_count": 9
        }
      ]
    },
    {
      "cell_type": "code",
      "metadata": {
        "id": "gJ2W9eIH8D4o"
      },
      "source": [
        "#remove _study from id\n",
        "\n",
        "for i in range(len(data2)):\n",
        "    t=data2.loc[i,\"id\"]\n",
        "    data2.loc[i,\"id\"]=t[:-6]"
      ],
      "execution_count": null,
      "outputs": []
    },
    {
      "cell_type": "code",
      "metadata": {
        "colab": {
          "base_uri": "https://localhost:8080/",
          "height": 206
        },
        "id": "QMya_ROc8IZt",
        "outputId": "1e603671-f511-4dd9-e2c0-d767059522cc"
      },
      "source": [
        "data2.head()"
      ],
      "execution_count": null,
      "outputs": [
        {
          "output_type": "execute_result",
          "data": {
            "text/html": [
              "<div>\n",
              "<style scoped>\n",
              "    .dataframe tbody tr th:only-of-type {\n",
              "        vertical-align: middle;\n",
              "    }\n",
              "\n",
              "    .dataframe tbody tr th {\n",
              "        vertical-align: top;\n",
              "    }\n",
              "\n",
              "    .dataframe thead th {\n",
              "        text-align: right;\n",
              "    }\n",
              "</style>\n",
              "<table border=\"1\" class=\"dataframe\">\n",
              "  <thead>\n",
              "    <tr style=\"text-align: right;\">\n",
              "      <th></th>\n",
              "      <th>id</th>\n",
              "      <th>Negative for Pneumonia</th>\n",
              "      <th>Typical Appearance</th>\n",
              "      <th>Indeterminate Appearance</th>\n",
              "      <th>Atypical Appearance</th>\n",
              "    </tr>\n",
              "  </thead>\n",
              "  <tbody>\n",
              "    <tr>\n",
              "      <th>0</th>\n",
              "      <td>00086460a852</td>\n",
              "      <td>0</td>\n",
              "      <td>1</td>\n",
              "      <td>0</td>\n",
              "      <td>0</td>\n",
              "    </tr>\n",
              "    <tr>\n",
              "      <th>1</th>\n",
              "      <td>000c9c05fd14</td>\n",
              "      <td>0</td>\n",
              "      <td>0</td>\n",
              "      <td>0</td>\n",
              "      <td>1</td>\n",
              "    </tr>\n",
              "    <tr>\n",
              "      <th>2</th>\n",
              "      <td>00292f8c37bd</td>\n",
              "      <td>1</td>\n",
              "      <td>0</td>\n",
              "      <td>0</td>\n",
              "      <td>0</td>\n",
              "    </tr>\n",
              "    <tr>\n",
              "      <th>3</th>\n",
              "      <td>005057b3f880</td>\n",
              "      <td>1</td>\n",
              "      <td>0</td>\n",
              "      <td>0</td>\n",
              "      <td>0</td>\n",
              "    </tr>\n",
              "    <tr>\n",
              "      <th>4</th>\n",
              "      <td>0051d9b12e72</td>\n",
              "      <td>0</td>\n",
              "      <td>0</td>\n",
              "      <td>0</td>\n",
              "      <td>1</td>\n",
              "    </tr>\n",
              "  </tbody>\n",
              "</table>\n",
              "</div>"
            ],
            "text/plain": [
              "             id  ...  Atypical Appearance\n",
              "0  00086460a852  ...                    0\n",
              "1  000c9c05fd14  ...                    1\n",
              "2  00292f8c37bd  ...                    0\n",
              "3  005057b3f880  ...                    0\n",
              "4  0051d9b12e72  ...                    1\n",
              "\n",
              "[5 rows x 5 columns]"
            ]
          },
          "metadata": {
            "tags": []
          },
          "execution_count": 11
        }
      ]
    },
    {
      "cell_type": "code",
      "metadata": {
        "colab": {
          "base_uri": "https://localhost:8080/",
          "height": 607
        },
        "id": "VwZVqIVB8J-Z",
        "outputId": "03f778bb-039d-4c48-bed6-4b6a82f0d747"
      },
      "source": [
        "#merge dataframes data,data2 based on StudyInstanceUID in data and id in data2\n",
        "\n",
        "df = pd.merge(left=data, right=data2, left_on='StudyInstanceUID', right_on='id')\n",
        "df.head()"
      ],
      "execution_count": null,
      "outputs": [
        {
          "output_type": "execute_result",
          "data": {
            "text/html": [
              "<div>\n",
              "<style scoped>\n",
              "    .dataframe tbody tr th:only-of-type {\n",
              "        vertical-align: middle;\n",
              "    }\n",
              "\n",
              "    .dataframe tbody tr th {\n",
              "        vertical-align: top;\n",
              "    }\n",
              "\n",
              "    .dataframe thead th {\n",
              "        text-align: right;\n",
              "    }\n",
              "</style>\n",
              "<table border=\"1\" class=\"dataframe\">\n",
              "  <thead>\n",
              "    <tr style=\"text-align: right;\">\n",
              "      <th></th>\n",
              "      <th>id_x</th>\n",
              "      <th>boxes</th>\n",
              "      <th>label</th>\n",
              "      <th>StudyInstanceUID</th>\n",
              "      <th>id_y</th>\n",
              "      <th>Negative for Pneumonia</th>\n",
              "      <th>Typical Appearance</th>\n",
              "      <th>Indeterminate Appearance</th>\n",
              "      <th>Atypical Appearance</th>\n",
              "    </tr>\n",
              "  </thead>\n",
              "  <tbody>\n",
              "    <tr>\n",
              "      <th>0</th>\n",
              "      <td>000a312787f2</td>\n",
              "      <td>[{'x': 789.28836, 'y': 582.43035, 'width': 102...</td>\n",
              "      <td>opacity 1 789.28836 582.43035 1815.94498 2499....</td>\n",
              "      <td>5776db0cec75</td>\n",
              "      <td>5776db0cec75</td>\n",
              "      <td>0</td>\n",
              "      <td>1</td>\n",
              "      <td>0</td>\n",
              "      <td>0</td>\n",
              "    </tr>\n",
              "    <tr>\n",
              "      <th>1</th>\n",
              "      <td>000c3a3f293f</td>\n",
              "      <td>NaN</td>\n",
              "      <td>none 1 0 0 1 1</td>\n",
              "      <td>ff0879eb20ed</td>\n",
              "      <td>ff0879eb20ed</td>\n",
              "      <td>1</td>\n",
              "      <td>0</td>\n",
              "      <td>0</td>\n",
              "      <td>0</td>\n",
              "    </tr>\n",
              "    <tr>\n",
              "      <th>2</th>\n",
              "      <td>0012ff7358bc</td>\n",
              "      <td>[{'x': 677.42216, 'y': 197.97662, 'width': 867...</td>\n",
              "      <td>opacity 1 677.42216 197.97662 1545.21983 1197....</td>\n",
              "      <td>9d514ce429a7</td>\n",
              "      <td>9d514ce429a7</td>\n",
              "      <td>0</td>\n",
              "      <td>1</td>\n",
              "      <td>0</td>\n",
              "      <td>0</td>\n",
              "    </tr>\n",
              "    <tr>\n",
              "      <th>3</th>\n",
              "      <td>001398f4ff4f</td>\n",
              "      <td>[{'x': 2729, 'y': 2181.33331, 'width': 948.000...</td>\n",
              "      <td>opacity 1 2729 2181.33331 3677.00012 2785.33331</td>\n",
              "      <td>28dddc8559b2</td>\n",
              "      <td>28dddc8559b2</td>\n",
              "      <td>0</td>\n",
              "      <td>0</td>\n",
              "      <td>0</td>\n",
              "      <td>1</td>\n",
              "    </tr>\n",
              "    <tr>\n",
              "      <th>4</th>\n",
              "      <td>001bd15d1891</td>\n",
              "      <td>[{'x': 623.23328, 'y': 1050, 'width': 714, 'he...</td>\n",
              "      <td>opacity 1 623.23328 1050 1337.23328 2156 opaci...</td>\n",
              "      <td>dfd9fdd85a3e</td>\n",
              "      <td>dfd9fdd85a3e</td>\n",
              "      <td>0</td>\n",
              "      <td>1</td>\n",
              "      <td>0</td>\n",
              "      <td>0</td>\n",
              "    </tr>\n",
              "  </tbody>\n",
              "</table>\n",
              "</div>"
            ],
            "text/plain": [
              "           id_x  ... Atypical Appearance\n",
              "0  000a312787f2  ...                   0\n",
              "1  000c3a3f293f  ...                   0\n",
              "2  0012ff7358bc  ...                   0\n",
              "3  001398f4ff4f  ...                   1\n",
              "4  001bd15d1891  ...                   0\n",
              "\n",
              "[5 rows x 9 columns]"
            ]
          },
          "metadata": {
            "tags": []
          },
          "execution_count": 12
        }
      ]
    },
    {
      "cell_type": "code",
      "metadata": {
        "id": "cvqvQNLK8NHx"
      },
      "source": [
        "#create a new column result and store the result values\n",
        "#0-->Negative for pnumonia\n",
        "#1-->Typical Appearance\n",
        "#2-->Indeterminate Appearance\n",
        "#3-->Atypical Appearance\n",
        "\n",
        "res=[]\n",
        "\n",
        "for i in range(len(df)) :\n",
        "  if(df.loc[i,\"Negative for Pneumonia\"]):\n",
        "    res.append(0)\n",
        "  elif(df.loc[i,\"Typical Appearance\"]):\n",
        "    res.append(1)\n",
        "  elif(df.loc[i,\"Indeterminate Appearance\"]):\n",
        "    res.append(2)\n",
        "  elif(df.loc[i,\"Atypical Appearance\"]):\n",
        "    res.append(3)\n",
        "\n",
        "df['result']=res"
      ],
      "execution_count": null,
      "outputs": []
    },
    {
      "cell_type": "code",
      "metadata": {
        "id": "uEhwe2e_8Nlt"
      },
      "source": [
        "#drop unneccesary columns\n",
        "\n",
        "df=df.drop(['Negative for Pneumonia','Typical Appearance','Indeterminate Appearance','Atypical Appearance'],axis=1)"
      ],
      "execution_count": null,
      "outputs": []
    },
    {
      "cell_type": "code",
      "metadata": {
        "colab": {
          "base_uri": "https://localhost:8080/",
          "height": 275
        },
        "id": "PPrr7JrD8PxF",
        "outputId": "36cae328-2f8e-4274-eedf-f8e6fa0a1492"
      },
      "source": [
        "df.head()"
      ],
      "execution_count": null,
      "outputs": [
        {
          "output_type": "execute_result",
          "data": {
            "text/html": [
              "<div>\n",
              "<style scoped>\n",
              "    .dataframe tbody tr th:only-of-type {\n",
              "        vertical-align: middle;\n",
              "    }\n",
              "\n",
              "    .dataframe tbody tr th {\n",
              "        vertical-align: top;\n",
              "    }\n",
              "\n",
              "    .dataframe thead th {\n",
              "        text-align: right;\n",
              "    }\n",
              "</style>\n",
              "<table border=\"1\" class=\"dataframe\">\n",
              "  <thead>\n",
              "    <tr style=\"text-align: right;\">\n",
              "      <th></th>\n",
              "      <th>id_x</th>\n",
              "      <th>boxes</th>\n",
              "      <th>label</th>\n",
              "      <th>StudyInstanceUID</th>\n",
              "      <th>id_y</th>\n",
              "      <th>result</th>\n",
              "    </tr>\n",
              "  </thead>\n",
              "  <tbody>\n",
              "    <tr>\n",
              "      <th>0</th>\n",
              "      <td>000a312787f2</td>\n",
              "      <td>[{'x': 789.28836, 'y': 582.43035, 'width': 102...</td>\n",
              "      <td>opacity 1 789.28836 582.43035 1815.94498 2499....</td>\n",
              "      <td>5776db0cec75</td>\n",
              "      <td>5776db0cec75</td>\n",
              "      <td>1</td>\n",
              "    </tr>\n",
              "    <tr>\n",
              "      <th>1</th>\n",
              "      <td>000c3a3f293f</td>\n",
              "      <td>NaN</td>\n",
              "      <td>none 1 0 0 1 1</td>\n",
              "      <td>ff0879eb20ed</td>\n",
              "      <td>ff0879eb20ed</td>\n",
              "      <td>0</td>\n",
              "    </tr>\n",
              "    <tr>\n",
              "      <th>2</th>\n",
              "      <td>0012ff7358bc</td>\n",
              "      <td>[{'x': 677.42216, 'y': 197.97662, 'width': 867...</td>\n",
              "      <td>opacity 1 677.42216 197.97662 1545.21983 1197....</td>\n",
              "      <td>9d514ce429a7</td>\n",
              "      <td>9d514ce429a7</td>\n",
              "      <td>1</td>\n",
              "    </tr>\n",
              "    <tr>\n",
              "      <th>3</th>\n",
              "      <td>001398f4ff4f</td>\n",
              "      <td>[{'x': 2729, 'y': 2181.33331, 'width': 948.000...</td>\n",
              "      <td>opacity 1 2729 2181.33331 3677.00012 2785.33331</td>\n",
              "      <td>28dddc8559b2</td>\n",
              "      <td>28dddc8559b2</td>\n",
              "      <td>3</td>\n",
              "    </tr>\n",
              "    <tr>\n",
              "      <th>4</th>\n",
              "      <td>001bd15d1891</td>\n",
              "      <td>[{'x': 623.23328, 'y': 1050, 'width': 714, 'he...</td>\n",
              "      <td>opacity 1 623.23328 1050 1337.23328 2156 opaci...</td>\n",
              "      <td>dfd9fdd85a3e</td>\n",
              "      <td>dfd9fdd85a3e</td>\n",
              "      <td>1</td>\n",
              "    </tr>\n",
              "  </tbody>\n",
              "</table>\n",
              "</div>"
            ],
            "text/plain": [
              "           id_x  ... result\n",
              "0  000a312787f2  ...      1\n",
              "1  000c3a3f293f  ...      0\n",
              "2  0012ff7358bc  ...      1\n",
              "3  001398f4ff4f  ...      3\n",
              "4  001bd15d1891  ...      1\n",
              "\n",
              "[5 rows x 6 columns]"
            ]
          },
          "metadata": {
            "tags": []
          },
          "execution_count": 15
        }
      ]
    },
    {
      "cell_type": "code",
      "metadata": {
        "id": "GXAD8vEU8Rle"
      },
      "source": [
        "#copied df to data (just to have variable name as data in future use)\n",
        "\n",
        "data=df"
      ],
      "execution_count": null,
      "outputs": []
    },
    {
      "cell_type": "markdown",
      "metadata": {
        "id": "8XGU3jXloUcN"
      },
      "source": [
        "# Label creation for train image dataset"
      ]
    },
    {
      "cell_type": "code",
      "metadata": {
        "id": "zZXxGK3p8V6J"
      },
      "source": [
        "path = '/content/drive/MyDrive/Optum/images/train'\n",
        " \n",
        "d=Path(path)\n",
        "# This would print all the files and directories\n",
        "images=[]\n",
        "for files in d.glob('*.png'):\n",
        "  images.append(files)"
      ],
      "execution_count": null,
      "outputs": []
    },
    {
      "cell_type": "code",
      "metadata": {
        "colab": {
          "base_uri": "https://localhost:8080/"
        },
        "id": "iFrE9eDb8edt",
        "outputId": "83aa511d-f30b-433d-e50c-e474954b537c"
      },
      "source": [
        "len(images)"
      ],
      "execution_count": null,
      "outputs": [
        {
          "output_type": "execute_result",
          "data": {
            "text/plain": [
              "4334"
            ]
          },
          "metadata": {
            "tags": []
          },
          "execution_count": 18
        }
      ]
    },
    {
      "cell_type": "code",
      "metadata": {
        "id": "BP8gWzMD8gDX"
      },
      "source": [
        "#take out only the image id from the image path\n",
        "\n",
        "list_images=[]\n",
        "\n",
        "for img in images:\n",
        "    ss=str(img)\n",
        "    ss=ss[-16:]\n",
        "    ss=ss[:-4]\n",
        "    list_images.append(ss)"
      ],
      "execution_count": null,
      "outputs": []
    },
    {
      "cell_type": "code",
      "metadata": {
        "id": "i9RjMKOS8h34"
      },
      "source": [
        "#drop rows that does not have corresponding images\n",
        "\n",
        "for i in range(len(data)):\n",
        "    if data.loc[i,\"id_x\"] not in list_images:\n",
        "       data=data.drop(i)"
      ],
      "execution_count": null,
      "outputs": []
    },
    {
      "cell_type": "code",
      "metadata": {
        "colab": {
          "base_uri": "https://localhost:8080/",
          "height": 275
        },
        "id": "lmlD4OVm8j0W",
        "outputId": "8ca5fe04-d279-4ebd-cbd9-456599df9293"
      },
      "source": [
        "data.head(5)"
      ],
      "execution_count": null,
      "outputs": [
        {
          "output_type": "execute_result",
          "data": {
            "text/html": [
              "<div>\n",
              "<style scoped>\n",
              "    .dataframe tbody tr th:only-of-type {\n",
              "        vertical-align: middle;\n",
              "    }\n",
              "\n",
              "    .dataframe tbody tr th {\n",
              "        vertical-align: top;\n",
              "    }\n",
              "\n",
              "    .dataframe thead th {\n",
              "        text-align: right;\n",
              "    }\n",
              "</style>\n",
              "<table border=\"1\" class=\"dataframe\">\n",
              "  <thead>\n",
              "    <tr style=\"text-align: right;\">\n",
              "      <th></th>\n",
              "      <th>id_x</th>\n",
              "      <th>boxes</th>\n",
              "      <th>label</th>\n",
              "      <th>StudyInstanceUID</th>\n",
              "      <th>id_y</th>\n",
              "      <th>result</th>\n",
              "    </tr>\n",
              "  </thead>\n",
              "  <tbody>\n",
              "    <tr>\n",
              "      <th>0</th>\n",
              "      <td>000a312787f2</td>\n",
              "      <td>[{'x': 789.28836, 'y': 582.43035, 'width': 102...</td>\n",
              "      <td>opacity 1 789.28836 582.43035 1815.94498 2499....</td>\n",
              "      <td>5776db0cec75</td>\n",
              "      <td>5776db0cec75</td>\n",
              "      <td>1</td>\n",
              "    </tr>\n",
              "    <tr>\n",
              "      <th>1</th>\n",
              "      <td>000c3a3f293f</td>\n",
              "      <td>NaN</td>\n",
              "      <td>none 1 0 0 1 1</td>\n",
              "      <td>ff0879eb20ed</td>\n",
              "      <td>ff0879eb20ed</td>\n",
              "      <td>0</td>\n",
              "    </tr>\n",
              "    <tr>\n",
              "      <th>2</th>\n",
              "      <td>0012ff7358bc</td>\n",
              "      <td>[{'x': 677.42216, 'y': 197.97662, 'width': 867...</td>\n",
              "      <td>opacity 1 677.42216 197.97662 1545.21983 1197....</td>\n",
              "      <td>9d514ce429a7</td>\n",
              "      <td>9d514ce429a7</td>\n",
              "      <td>1</td>\n",
              "    </tr>\n",
              "    <tr>\n",
              "      <th>3</th>\n",
              "      <td>001398f4ff4f</td>\n",
              "      <td>[{'x': 2729, 'y': 2181.33331, 'width': 948.000...</td>\n",
              "      <td>opacity 1 2729 2181.33331 3677.00012 2785.33331</td>\n",
              "      <td>28dddc8559b2</td>\n",
              "      <td>28dddc8559b2</td>\n",
              "      <td>3</td>\n",
              "    </tr>\n",
              "    <tr>\n",
              "      <th>4</th>\n",
              "      <td>001bd15d1891</td>\n",
              "      <td>[{'x': 623.23328, 'y': 1050, 'width': 714, 'he...</td>\n",
              "      <td>opacity 1 623.23328 1050 1337.23328 2156 opaci...</td>\n",
              "      <td>dfd9fdd85a3e</td>\n",
              "      <td>dfd9fdd85a3e</td>\n",
              "      <td>1</td>\n",
              "    </tr>\n",
              "  </tbody>\n",
              "</table>\n",
              "</div>"
            ],
            "text/plain": [
              "           id_x  ... result\n",
              "0  000a312787f2  ...      1\n",
              "1  000c3a3f293f  ...      0\n",
              "2  0012ff7358bc  ...      1\n",
              "3  001398f4ff4f  ...      3\n",
              "4  001bd15d1891  ...      1\n",
              "\n",
              "[5 rows x 6 columns]"
            ]
          },
          "metadata": {
            "tags": []
          },
          "execution_count": 21
        }
      ]
    },
    {
      "cell_type": "code",
      "metadata": {
        "id": "Rgb_Zord8mLl"
      },
      "source": [
        "#after dropping reset the indices\n",
        "\n",
        "data = data.reset_index()"
      ],
      "execution_count": null,
      "outputs": []
    },
    {
      "cell_type": "code",
      "metadata": {
        "colab": {
          "base_uri": "https://localhost:8080/",
          "height": 147
        },
        "id": "lhjHW_x28n6G",
        "outputId": "8b14565d-ba06-41c3-eb5f-e7699e3fda6d"
      },
      "source": [
        "data.head(2)"
      ],
      "execution_count": null,
      "outputs": [
        {
          "output_type": "execute_result",
          "data": {
            "text/html": [
              "<div>\n",
              "<style scoped>\n",
              "    .dataframe tbody tr th:only-of-type {\n",
              "        vertical-align: middle;\n",
              "    }\n",
              "\n",
              "    .dataframe tbody tr th {\n",
              "        vertical-align: top;\n",
              "    }\n",
              "\n",
              "    .dataframe thead th {\n",
              "        text-align: right;\n",
              "    }\n",
              "</style>\n",
              "<table border=\"1\" class=\"dataframe\">\n",
              "  <thead>\n",
              "    <tr style=\"text-align: right;\">\n",
              "      <th></th>\n",
              "      <th>index</th>\n",
              "      <th>id_x</th>\n",
              "      <th>boxes</th>\n",
              "      <th>label</th>\n",
              "      <th>StudyInstanceUID</th>\n",
              "      <th>id_y</th>\n",
              "      <th>result</th>\n",
              "    </tr>\n",
              "  </thead>\n",
              "  <tbody>\n",
              "    <tr>\n",
              "      <th>0</th>\n",
              "      <td>0</td>\n",
              "      <td>000a312787f2</td>\n",
              "      <td>[{'x': 789.28836, 'y': 582.43035, 'width': 102...</td>\n",
              "      <td>opacity 1 789.28836 582.43035 1815.94498 2499....</td>\n",
              "      <td>5776db0cec75</td>\n",
              "      <td>5776db0cec75</td>\n",
              "      <td>1</td>\n",
              "    </tr>\n",
              "    <tr>\n",
              "      <th>1</th>\n",
              "      <td>1</td>\n",
              "      <td>000c3a3f293f</td>\n",
              "      <td>NaN</td>\n",
              "      <td>none 1 0 0 1 1</td>\n",
              "      <td>ff0879eb20ed</td>\n",
              "      <td>ff0879eb20ed</td>\n",
              "      <td>0</td>\n",
              "    </tr>\n",
              "  </tbody>\n",
              "</table>\n",
              "</div>"
            ],
            "text/plain": [
              "   index          id_x  ...          id_y result\n",
              "0      0  000a312787f2  ...  5776db0cec75      1\n",
              "1      1  000c3a3f293f  ...  ff0879eb20ed      0\n",
              "\n",
              "[2 rows x 7 columns]"
            ]
          },
          "metadata": {
            "tags": []
          },
          "execution_count": 23
        }
      ]
    },
    {
      "cell_type": "code",
      "metadata": {
        "colab": {
          "base_uri": "https://localhost:8080/"
        },
        "id": "8pTKvE7R8rFB",
        "outputId": "db69eef8-904a-4c9c-da3d-a8bc64be1740"
      },
      "source": [
        "len(data)"
      ],
      "execution_count": null,
      "outputs": [
        {
          "output_type": "execute_result",
          "data": {
            "text/plain": [
              "4334"
            ]
          },
          "metadata": {
            "tags": []
          },
          "execution_count": 24
        }
      ]
    },
    {
      "cell_type": "code",
      "metadata": {
        "id": "TEQ8K4708wR1"
      },
      "source": [
        "#image dependencies\n",
        "\n",
        "import PIL\n",
        "from PIL import Image"
      ],
      "execution_count": null,
      "outputs": []
    },
    {
      "cell_type": "code",
      "metadata": {
        "id": "XoBsOhWm8wxZ"
      },
      "source": [
        "#create labels for train images and store in the path specified as text files\n",
        "\n",
        "\n",
        "path=\"/content/drive/MyDrive/Optum/labels/train/\"\n",
        "img_path = \"/content/drive/MyDrive/Optum/images/train/\"\n",
        "\n",
        "for i in range(len(data)):\n",
        "    f_name=data.loc[i,\"id_x\"]\n",
        "    sample=data.loc[i,\"label\"]\n",
        "    image=PIL.Image.open(img_path+f_name+\".png\")\n",
        "    width,height=image.size\n",
        "    #print(width,height)\n",
        "    scale_x=(640/width)\n",
        "    scale_y=(640/height)\n",
        "    \n",
        "    if sample[0] == 'o':\n",
        "        sample=sample.split(\"opacity 1 \")\n",
        "        res='1'\n",
        "    else:\n",
        "        sample=sample.split(\"none 1 \")\n",
        "        res='0'\n",
        "    content=\"\"\n",
        "    for j in range(1,len(sample)):\n",
        "        temp=sample[j]\n",
        "        temp=temp.split(\" \")\n",
        "        value=\"\"\n",
        "        x=int(np.round(float(temp[0])*scale_x,4))\n",
        "        y=int(np.round(float(temp[1])*scale_y,4))\n",
        "        w=int(np.round(float(temp[2])*scale_x,4))\n",
        "        h=int(np.round(float(temp[3])*scale_y,4))\n",
        "        w = w - x # xmax - xmin\n",
        "        h = h - y # ymax - ymin\n",
        "        xc = x + int(np.round(w/2)) # xmin + width/2\n",
        "        yc = y + int(np.round(h/2)) # ymin + height/2\n",
        "        value+=str(round(xc/640,6))+\" \"+str(round(yc/640,6))+\" \"+str(round(w/640,6))+\" \"+str(round(h/640,6))           \n",
        "        content+=res+\" \"+value+\"\\n\"\n",
        "    f = open(path +f_name + \".txt\", \"w\")\n",
        "    f.write(content)\n",
        "    f.close()\n",
        "        \n"
      ],
      "execution_count": null,
      "outputs": []
    },
    {
      "cell_type": "markdown",
      "metadata": {
        "id": "irfFWlQ1oh5E"
      },
      "source": [
        "# Label creation for validation image dataset"
      ]
    },
    {
      "cell_type": "code",
      "metadata": {
        "id": "qqZa_QNt80Cw"
      },
      "source": [
        "path = \"/content/drive/MyDrive/Optum/images/val\"\n",
        " \n",
        "d=Path(path)\n",
        "# This would print all the files and directories\n",
        "images=[]\n",
        "for files in d.glob('*.png'):\n",
        "  images.append(files)"
      ],
      "execution_count": null,
      "outputs": []
    },
    {
      "cell_type": "code",
      "metadata": {
        "id": "RpmgoBez87QW"
      },
      "source": [
        "#take out only the image id from the image path\n",
        "\n",
        "list_images=[]\n",
        "\n",
        "for img in images:\n",
        "    ss=str(img)\n",
        "    ss=ss[-16:]\n",
        "    ss=ss[:-4]\n",
        "    list_images.append(ss)"
      ],
      "execution_count": null,
      "outputs": []
    },
    {
      "cell_type": "code",
      "metadata": {
        "colab": {
          "base_uri": "https://localhost:8080/",
          "height": 129
        },
        "id": "mbLtkUYU89XH",
        "outputId": "a47818a3-6602-4f05-a3c2-e5ae1edd9a7d"
      },
      "source": [
        "df.head(2)"
      ],
      "execution_count": null,
      "outputs": [
        {
          "output_type": "execute_result",
          "data": {
            "text/html": [
              "<div>\n",
              "<style scoped>\n",
              "    .dataframe tbody tr th:only-of-type {\n",
              "        vertical-align: middle;\n",
              "    }\n",
              "\n",
              "    .dataframe tbody tr th {\n",
              "        vertical-align: top;\n",
              "    }\n",
              "\n",
              "    .dataframe thead th {\n",
              "        text-align: right;\n",
              "    }\n",
              "</style>\n",
              "<table border=\"1\" class=\"dataframe\">\n",
              "  <thead>\n",
              "    <tr style=\"text-align: right;\">\n",
              "      <th></th>\n",
              "      <th>id_x</th>\n",
              "      <th>boxes</th>\n",
              "      <th>label</th>\n",
              "      <th>StudyInstanceUID</th>\n",
              "      <th>id_y</th>\n",
              "      <th>result</th>\n",
              "    </tr>\n",
              "  </thead>\n",
              "  <tbody>\n",
              "    <tr>\n",
              "      <th>0</th>\n",
              "      <td>000a312787f2</td>\n",
              "      <td>[{'x': 789.28836, 'y': 582.43035, 'width': 102...</td>\n",
              "      <td>opacity 1 789.28836 582.43035 1815.94498 2499....</td>\n",
              "      <td>5776db0cec75</td>\n",
              "      <td>5776db0cec75</td>\n",
              "      <td>1</td>\n",
              "    </tr>\n",
              "    <tr>\n",
              "      <th>1</th>\n",
              "      <td>000c3a3f293f</td>\n",
              "      <td>NaN</td>\n",
              "      <td>none 1 0 0 1 1</td>\n",
              "      <td>ff0879eb20ed</td>\n",
              "      <td>ff0879eb20ed</td>\n",
              "      <td>0</td>\n",
              "    </tr>\n",
              "  </tbody>\n",
              "</table>\n",
              "</div>"
            ],
            "text/plain": [
              "           id_x  ... result\n",
              "0  000a312787f2  ...      1\n",
              "1  000c3a3f293f  ...      0\n",
              "\n",
              "[2 rows x 6 columns]"
            ]
          },
          "metadata": {
            "tags": []
          },
          "execution_count": 29
        }
      ]
    },
    {
      "cell_type": "code",
      "metadata": {
        "id": "UyAd6Wqg8_IF"
      },
      "source": [
        "#drop rows that does not have corresponding images\n",
        "\n",
        "for i in range(len(df)):\n",
        "    if df.loc[i,\"id_x\"] not in list_images:\n",
        "       df=df.drop(i)"
      ],
      "execution_count": null,
      "outputs": []
    },
    {
      "cell_type": "code",
      "metadata": {
        "colab": {
          "base_uri": "https://localhost:8080/"
        },
        "id": "rnc3kBF59BGI",
        "outputId": "b0bc11de-3281-48d6-9779-53cdb5a6ea99"
      },
      "source": [
        "len(df)"
      ],
      "execution_count": null,
      "outputs": [
        {
          "output_type": "execute_result",
          "data": {
            "text/plain": [
              "1367"
            ]
          },
          "metadata": {
            "tags": []
          },
          "execution_count": 31
        }
      ]
    },
    {
      "cell_type": "code",
      "metadata": {
        "id": "AptqYNbx9DAf"
      },
      "source": [
        "#after dropping reset the indices\n",
        "\n",
        "df = df.reset_index()"
      ],
      "execution_count": null,
      "outputs": []
    },
    {
      "cell_type": "code",
      "metadata": {
        "colab": {
          "base_uri": "https://localhost:8080/",
          "height": 275
        },
        "id": "TkkCGyOt9GWm",
        "outputId": "f14c00fa-7d86-4cc8-f4e2-34367b95becb"
      },
      "source": [
        "df.head()"
      ],
      "execution_count": null,
      "outputs": [
        {
          "output_type": "execute_result",
          "data": {
            "text/html": [
              "<div>\n",
              "<style scoped>\n",
              "    .dataframe tbody tr th:only-of-type {\n",
              "        vertical-align: middle;\n",
              "    }\n",
              "\n",
              "    .dataframe tbody tr th {\n",
              "        vertical-align: top;\n",
              "    }\n",
              "\n",
              "    .dataframe thead th {\n",
              "        text-align: right;\n",
              "    }\n",
              "</style>\n",
              "<table border=\"1\" class=\"dataframe\">\n",
              "  <thead>\n",
              "    <tr style=\"text-align: right;\">\n",
              "      <th></th>\n",
              "      <th>index</th>\n",
              "      <th>id_x</th>\n",
              "      <th>boxes</th>\n",
              "      <th>label</th>\n",
              "      <th>StudyInstanceUID</th>\n",
              "      <th>id_y</th>\n",
              "      <th>result</th>\n",
              "    </tr>\n",
              "  </thead>\n",
              "  <tbody>\n",
              "    <tr>\n",
              "      <th>0</th>\n",
              "      <td>23</td>\n",
              "      <td>cada5310214b</td>\n",
              "      <td>[{'x': 981.75034, 'y': 256.08181, 'width': 225...</td>\n",
              "      <td>opacity 1 981.75034 256.08181 1207.54099 765.2...</td>\n",
              "      <td>1a58b43cf286</td>\n",
              "      <td>1a58b43cf286</td>\n",
              "      <td>1</td>\n",
              "    </tr>\n",
              "    <tr>\n",
              "      <th>1</th>\n",
              "      <td>28</td>\n",
              "      <td>cdd9e3aaf45a</td>\n",
              "      <td>NaN</td>\n",
              "      <td>none 1 0 0 1 1</td>\n",
              "      <td>74ba8f2badcb</td>\n",
              "      <td>74ba8f2badcb</td>\n",
              "      <td>0</td>\n",
              "    </tr>\n",
              "    <tr>\n",
              "      <th>2</th>\n",
              "      <td>32</td>\n",
              "      <td>b3ffe59e37c7</td>\n",
              "      <td>NaN</td>\n",
              "      <td>none 1 0 0 1 1</td>\n",
              "      <td>81f6b4b343f7</td>\n",
              "      <td>81f6b4b343f7</td>\n",
              "      <td>1</td>\n",
              "    </tr>\n",
              "    <tr>\n",
              "      <th>3</th>\n",
              "      <td>33</td>\n",
              "      <td>b43de320e7d9</td>\n",
              "      <td>[{'x': 1148.33401, 'y': 1097.72709, 'width': 4...</td>\n",
              "      <td>opacity 1 1148.33401 1097.72709 1621.3605 1667...</td>\n",
              "      <td>81f6b4b343f7</td>\n",
              "      <td>81f6b4b343f7</td>\n",
              "      <td>1</td>\n",
              "    </tr>\n",
              "    <tr>\n",
              "      <th>4</th>\n",
              "      <td>143</td>\n",
              "      <td>b121806162c3</td>\n",
              "      <td>NaN</td>\n",
              "      <td>none 1 0 0 1 1</td>\n",
              "      <td>0fd2db233deb</td>\n",
              "      <td>0fd2db233deb</td>\n",
              "      <td>2</td>\n",
              "    </tr>\n",
              "  </tbody>\n",
              "</table>\n",
              "</div>"
            ],
            "text/plain": [
              "   index          id_x  ...          id_y result\n",
              "0     23  cada5310214b  ...  1a58b43cf286      1\n",
              "1     28  cdd9e3aaf45a  ...  74ba8f2badcb      0\n",
              "2     32  b3ffe59e37c7  ...  81f6b4b343f7      1\n",
              "3     33  b43de320e7d9  ...  81f6b4b343f7      1\n",
              "4    143  b121806162c3  ...  0fd2db233deb      2\n",
              "\n",
              "[5 rows x 7 columns]"
            ]
          },
          "metadata": {
            "tags": []
          },
          "execution_count": 33
        }
      ]
    },
    {
      "cell_type": "code",
      "metadata": {
        "id": "c2R9MJrK9G8N"
      },
      "source": [
        "#create labels for validation images and store in the path specified as text files\n",
        "\n",
        "path=\"/content/drive/MyDrive/Optum/labels/val/\"\n",
        "img_path = \"/content/drive/MyDrive/Optum/images/val/\"\n",
        "\n",
        "for i in range(len(df)):\n",
        "    f_name=df.loc[i,\"id_x\"]\n",
        "    sample=df.loc[i,\"label\"]\n",
        "    image=PIL.Image.open(img_path+f_name+\".png\")\n",
        "    width,height=image.size\n",
        "    #print(width,height)\n",
        "    scale_x=(640/width)\n",
        "    scale_y=(640/height)\n",
        "    \n",
        "    if sample[0] == 'o':\n",
        "        sample=sample.split(\"opacity 1 \")\n",
        "        res='1'\n",
        "    else:\n",
        "        sample=sample.split(\"none 1 \")\n",
        "        res='0'\n",
        "    content=\"\"\n",
        "    for j in range(1,len(sample)):\n",
        "        temp=sample[j]\n",
        "        temp=temp.split(\" \")\n",
        "        value=\"\"\n",
        "        x=int(np.round(float(temp[0])*scale_x,4))\n",
        "        y=int(np.round(float(temp[1])*scale_y,4))\n",
        "        w=int(np.round(float(temp[2])*scale_x,4))\n",
        "        h=int(np.round(float(temp[3])*scale_y,4))\n",
        "        w = w - x # xmax - xmin\n",
        "        h = h - y # ymax - ymin\n",
        "        xc = x + int(np.round(w/2)) # xmin + width/2\n",
        "        yc = y + int(np.round(h/2)) # ymin + height/2\n",
        "        value+=str(round(xc/640,6))+\" \"+str(round(yc/640,6))+\" \"+str(round(w/640,6))+\" \"+str(round(h/640,6))+\" \"\n",
        "        content+=res+\" \"+value+\"\\n\"\n",
        "    f = open(path +f_name + \".txt\", \"w\")\n",
        "    f.write(content)\n",
        "    f.close()\n",
        "        \n"
      ],
      "execution_count": null,
      "outputs": []
    },
    {
      "cell_type": "code",
      "metadata": {
        "id": "hlX-9uIF9iBm"
      },
      "source": [
        "path = \"/content/drive/MyDrive/Optum/labels/val\"\n",
        " \n",
        "d=Path(path)\n",
        "# This would print all the files and directories\n",
        "images=[]\n",
        "for files in d.glob('*.txt'):\n",
        "  images.append(files)"
      ],
      "execution_count": null,
      "outputs": []
    },
    {
      "cell_type": "code",
      "metadata": {
        "colab": {
          "base_uri": "https://localhost:8080/"
        },
        "id": "He52kJmtoMHJ",
        "outputId": "44f9c1c8-2ae2-4df4-9d98-44b54381659a"
      },
      "source": [
        "len(images)"
      ],
      "execution_count": null,
      "outputs": [
        {
          "output_type": "execute_result",
          "data": {
            "text/plain": [
              "1367"
            ]
          },
          "metadata": {
            "tags": []
          },
          "execution_count": 36
        }
      ]
    },
    {
      "cell_type": "code",
      "metadata": {
        "id": "bKHvkhjvoGTq"
      },
      "source": [
        "path = \"/content/drive/MyDrive/Optum/labels/train\"\n",
        " \n",
        "d=Path(path)\n",
        "# This would print all the files and directories\n",
        "images=[]\n",
        "for files in d.glob('*.txt'):\n",
        "  images.append(files)"
      ],
      "execution_count": null,
      "outputs": []
    },
    {
      "cell_type": "code",
      "metadata": {
        "id": "tb4Nj8jOoQYQ",
        "colab": {
          "base_uri": "https://localhost:8080/"
        },
        "outputId": "3dc0cc45-b64b-41ae-a721-15711e27df61"
      },
      "source": [
        "len(images)"
      ],
      "execution_count": null,
      "outputs": [
        {
          "output_type": "execute_result",
          "data": {
            "text/plain": [
              "4334"
            ]
          },
          "metadata": {
            "tags": []
          },
          "execution_count": 38
        }
      ]
    }
  ]
}