{
  "nbformat": 4,
  "nbformat_minor": 5,
  "metadata": {
    "kernelspec": {
      "display_name": "Python 3",
      "language": "python",
      "name": "python3"
    },
    "language_info": {
      "codemirror_mode": {
        "name": "ipython",
        "version": 3
      },
      "file_extension": ".py",
      "mimetype": "text/x-python",
      "name": "python",
      "nbconvert_exporter": "python",
      "pygments_lexer": "ipython3",
      "version": "3.7.4"
    },
    "colab": {
      "name": "dcmtopng.ipynb",
      "provenance": [],
      "collapsed_sections": [],
      "include_colab_link": true
    }
  },
  "cells": [
    {
      "cell_type": "markdown",
      "metadata": {
        "id": "view-in-github",
        "colab_type": "text"
      },
      "source": [
        "<a href=\"https://colab.research.google.com/github/rshamsini/COVID-19detection/blob/main/dcmtopng.ipynb\" target=\"_parent\"><img src=\"https://colab.research.google.com/assets/colab-badge.svg\" alt=\"Open In Colab\"/></a>"
      ]
    },
    {
      "cell_type": "code",
      "metadata": {
        "id": "zzhGfZ8UIkI6"
      },
      "source": [
        "###.dcm to .png\n",
        "\n",
        "import os\n",
        "\n",
        "from PIL import Image\n",
        "import pandas as pd\n",
        "from tqdm.auto import tqdm"
      ],
      "id": "zzhGfZ8UIkI6",
      "execution_count": null,
      "outputs": []
    },
    {
      "cell_type": "code",
      "metadata": {
        "id": "iso2HK2uIkI9",
        "outputId": "4bd0741e-adf7-4773-e4db-82b3d3b40d2c"
      },
      "source": [
        "!pip install pydicom "
      ],
      "id": "iso2HK2uIkI9",
      "execution_count": null,
      "outputs": [
        {
          "output_type": "stream",
          "text": [
            "Requirement already satisfied: pydicom in c:\\users\\harham\\anaconda3\\lib\\site-packages (2.1.2)\n"
          ],
          "name": "stdout"
        }
      ]
    },
    {
      "cell_type": "code",
      "metadata": {
        "id": "FxuASBFVIkI-"
      },
      "source": [
        "!pip uninstall numpy\n"
      ],
      "id": "FxuASBFVIkI-",
      "execution_count": null,
      "outputs": []
    },
    {
      "cell_type": "code",
      "metadata": {
        "id": "WxT2DPeYIkI_"
      },
      "source": [
        "!pip install numpy"
      ],
      "id": "WxT2DPeYIkI_",
      "execution_count": null,
      "outputs": []
    },
    {
      "cell_type": "code",
      "metadata": {
        "id": "eS2Qe76_IkJA"
      },
      "source": [
        "import numpy as np\n",
        "import pydicom\n",
        "from pydicom.pixel_data_handlers.util import apply_voi_lut"
      ],
      "id": "eS2Qe76_IkJA",
      "execution_count": null,
      "outputs": []
    },
    {
      "cell_type": "code",
      "metadata": {
        "id": "PVqTH5smIkJA"
      },
      "source": [
        "def read_xray(path, voi_lut = True, fix_monochrome = True):\n",
        "    \n",
        "    dicom = pydicom.read_file(path)\n",
        "    \n",
        "    # VOI LUT (if available by DICOM device) is used to transform raw DICOM data to \n",
        "    # \"human-friendly\" view\n",
        "    if voi_lut:\n",
        "        data = apply_voi_lut(dicom.pixel_array, dicom)\n",
        "    else:\n",
        "        data = dicom.pixel_array\n",
        "               \n",
        "    # depending on this value, X-ray may look inverted - fix that:\n",
        "    if fix_monochrome and dicom.PhotometricInterpretation == \"MONOCHROME1\":\n",
        "        data = np.amax(data) - data\n",
        "        \n",
        "    data = data - np.min(data)\n",
        "    data = data / np.max(data)\n",
        "    data = (data * 255).astype(np.uint8)\n",
        "        \n",
        "    return data\n"
      ],
      "id": "PVqTH5smIkJA",
      "execution_count": null,
      "outputs": []
    },
    {
      "cell_type": "code",
      "metadata": {
        "id": "MikFQnwXIkJB"
      },
      "source": [
        "!pip install pydicom\n",
        "! pip install pylibjpeg pylibjpeg-libjpeg pydicom\n",
        "!pip install gdcm\n",
        "#!pip3 install python-gdcm\n",
        "!pip install conda\n",
        "!conda install gdcm -c conda-forge -y"
      ],
      "id": "MikFQnwXIkJB",
      "execution_count": null,
      "outputs": []
    },
    {
      "cell_type": "code",
      "metadata": {
        "id": "MRzcfWe_IkJC"
      },
      "source": [
        "from pathlib import Path\n",
        "path = r'C:\\Users\\Harham\\Downloads\\train'\n",
        " \n",
        "d=Path(path)\n",
        "# This would print all the files and directories\n",
        "images_path=[]\n",
        "for files in d.glob('**/*.dcm'):\n",
        "  images_path.append(files)"
      ],
      "id": "MRzcfWe_IkJC",
      "execution_count": null,
      "outputs": []
    },
    {
      "cell_type": "code",
      "metadata": {
        "id": "aLoHqTv4IkJC"
      },
      "source": [
        "save_dir=r'C:\\Users\\Harham\\Downloads\\png'\n",
        "for i in range(len(images_path)):\n",
        "    xray = read_xray(images_path[i])\n",
        "    im = Image.fromarray(xray)\n",
        "    s=str(images_path[i])\n",
        "    s=s[-16:]# Appending the first 16 characters of image id\n",
        "    s=s[:-4] # Dropping .dcm\n",
        "    im.save(os.path.join(save_dir,s+'.png'))# Saving the png images with image named using image id and extension"
      ],
      "id": "aLoHqTv4IkJC",
      "execution_count": null,
      "outputs": []
    },
    {
      "cell_type": "code",
      "metadata": {
        "id": "wnldF__SIkJD"
      },
      "source": [
        ""
      ],
      "id": "wnldF__SIkJD",
      "execution_count": null,
      "outputs": []
    },
    {
      "cell_type": "code",
      "metadata": {
        "id": "52ejXy2PIkJE"
      },
      "source": [
        ""
      ],
      "id": "52ejXy2PIkJE",
      "execution_count": null,
      "outputs": []
    },
    {
      "cell_type": "code",
      "metadata": {
        "id": "3UWHxi0VIkJE"
      },
      "source": [
        ""
      ],
      "id": "3UWHxi0VIkJE",
      "execution_count": null,
      "outputs": []
    },
    {
      "cell_type": "code",
      "metadata": {
        "id": "4P4r69JjIkJE"
      },
      "source": [
        ""
      ],
      "id": "4P4r69JjIkJE",
      "execution_count": null,
      "outputs": []
    }
  ]
}