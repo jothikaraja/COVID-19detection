{
  "nbformat": 4,
  "nbformat_minor": 0,
  "metadata": {
    "colab": {
      "name": "web_app.ipynb",
      "provenance": [],
      "collapsed_sections": [],
      "mount_file_id": "1PDOFGn6_LgqoceNGovxTy4HUB4zwlpGt",
      "authorship_tag": "ABX9TyOipUgwwgeZtG00vLYiiDRs",
      "include_colab_link": true
    },
    "kernelspec": {
      "display_name": "Python 3",
      "name": "python3"
    },
    "language_info": {
      "name": "python"
    }
  },
  "cells": [
    {
      "cell_type": "markdown",
      "metadata": {
        "id": "view-in-github",
        "colab_type": "text"
      },
      "source": [
        "<a href=\"https://colab.research.google.com/github/rshamsini/COVID-19detection/blob/main/web_app.ipynb\" target=\"_parent\"><img src=\"https://colab.research.google.com/assets/colab-badge.svg\" alt=\"Open In Colab\"/></a>"
      ]
    },
    {
      "cell_type": "code",
      "metadata": {
        "colab": {
          "base_uri": "https://localhost:8080/"
        },
        "id": "mZw4wXQ1ySTx",
        "outputId": "d136e3ab-0d25-42f2-a2c3-1f084121358b"
      },
      "source": [
        "#Mounting the Google drive\n",
        "from google.colab import drive\n",
        "drive.mount('/content/drive')"
      ],
      "execution_count": null,
      "outputs": [
        {
          "output_type": "stream",
          "text": [
            "Drive already mounted at /content/drive; to attempt to forcibly remount, call drive.mount(\"/content/drive\", force_remount=True).\n"
          ],
          "name": "stdout"
        }
      ]
    },
    {
      "cell_type": "code",
      "metadata": {
        "id": "ml1ygc3qNXwO"
      },
      "source": [
        "import numpy as np #mathematical operations over arrays\n",
        "import pandas as pd #a powerful data analysis and manipulation library for Python\n",
        "import os\n",
        "import glob #glob module is used to retrieve files/pathnames matching a specified pattern.\n",
        "from pathlib import Path"
      ],
      "execution_count": null,
      "outputs": []
    },
    {
      "cell_type": "code",
      "metadata": {
        "id": "Pr_7TElsZONF"
      },
      "source": [
        "import torch\n",
        "from IPython.display import Image, clear_output\n",
        "import PIL\n",
        "from PIL import Image"
      ],
      "execution_count": null,
      "outputs": []
    },
    {
      "cell_type": "code",
      "metadata": {
        "colab": {
          "base_uri": "https://localhost:8080/"
        },
        "id": "0r4ZvPszofUb",
        "outputId": "7bdf8a34-187b-4490-a8a6-9d69a9eda200"
      },
      "source": [
        "from sklearn.externals import joblib"
      ],
      "execution_count": null,
      "outputs": [
        {
          "output_type": "stream",
          "text": [
            "/usr/local/lib/python3.7/dist-packages/sklearn/externals/joblib/__init__.py:15: FutureWarning: sklearn.externals.joblib is deprecated in 0.21 and will be removed in 0.23. Please import this functionality directly from joblib, which can be installed with: pip install joblib. If this warning is raised when loading pickled models, you may need to re-serialize those models with scikit-learn 0.21+.\n",
            "  warnings.warn(msg, category=FutureWarning)\n"
          ],
          "name": "stderr"
        }
      ]
    },
    {
      "cell_type": "markdown",
      "metadata": {
        "id": "gpWtwWbJgFNh"
      },
      "source": [
        "# Deployment of model using Flask\n"
      ]
    },
    {
      "cell_type": "code",
      "metadata": {
        "colab": {
          "base_uri": "https://localhost:8080/"
        },
        "id": "2yxiXn4VTWv2",
        "outputId": "40822003-8b3f-4f71-892e-c3bd54246e4f"
      },
      "source": [
        "#pip install dependencies\n",
        "\n",
        "!pip install flask-ngrok"
      ],
      "execution_count": null,
      "outputs": [
        {
          "output_type": "stream",
          "text": [
            "Collecting flask-ngrok\n",
            "  Downloading flask_ngrok-0.0.25-py3-none-any.whl (3.1 kB)\n",
            "Requirement already satisfied: requests in /usr/local/lib/python3.7/dist-packages (from flask-ngrok) (2.23.0)\n",
            "Requirement already satisfied: Flask>=0.8 in /usr/local/lib/python3.7/dist-packages (from flask-ngrok) (1.1.4)\n",
            "Requirement already satisfied: click<8.0,>=5.1 in /usr/local/lib/python3.7/dist-packages (from Flask>=0.8->flask-ngrok) (7.1.2)\n",
            "Requirement already satisfied: Werkzeug<2.0,>=0.15 in /usr/local/lib/python3.7/dist-packages (from Flask>=0.8->flask-ngrok) (1.0.1)\n",
            "Requirement already satisfied: itsdangerous<2.0,>=0.24 in /usr/local/lib/python3.7/dist-packages (from Flask>=0.8->flask-ngrok) (1.1.0)\n",
            "Requirement already satisfied: Jinja2<3.0,>=2.10.1 in /usr/local/lib/python3.7/dist-packages (from Flask>=0.8->flask-ngrok) (2.11.3)\n",
            "Requirement already satisfied: MarkupSafe>=0.23 in /usr/local/lib/python3.7/dist-packages (from Jinja2<3.0,>=2.10.1->Flask>=0.8->flask-ngrok) (2.0.1)\n",
            "Requirement already satisfied: chardet<4,>=3.0.2 in /usr/local/lib/python3.7/dist-packages (from requests->flask-ngrok) (3.0.4)\n",
            "Requirement already satisfied: certifi>=2017.4.17 in /usr/local/lib/python3.7/dist-packages (from requests->flask-ngrok) (2021.5.30)\n",
            "Requirement already satisfied: idna<3,>=2.5 in /usr/local/lib/python3.7/dist-packages (from requests->flask-ngrok) (2.10)\n",
            "Requirement already satisfied: urllib3!=1.25.0,!=1.25.1,<1.26,>=1.21.1 in /usr/local/lib/python3.7/dist-packages (from requests->flask-ngrok) (1.24.3)\n",
            "Installing collected packages: flask-ngrok\n",
            "Successfully installed flask-ngrok-0.0.25\n"
          ],
          "name": "stdout"
        }
      ]
    },
    {
      "cell_type": "code",
      "metadata": {
        "id": "lA442QuQbGgB"
      },
      "source": [
        "#load the svm model that is saved in the storage\n",
        "\n",
        "svm = joblib.load(\"/content/drive/MyDrive/Optum/model.pkl\")"
      ],
      "execution_count": null,
      "outputs": []
    },
    {
      "cell_type": "code",
      "metadata": {
        "id": "4JFkdPtFTkI3"
      },
      "source": [
        "#static folder contains css,js\n",
        "#tempate folder contains index.html\n",
        "\n",
        "import os\n",
        "os.mkdir('templates')\n",
        "os.mkdir('static')"
      ],
      "execution_count": null,
      "outputs": []
    },
    {
      "cell_type": "code",
      "metadata": {
        "id": "JB6cHt2fTmLM"
      },
      "source": [
        "#index.html\n",
        "\n",
        "index='''\n",
        "<html lang=\"en\">\n",
        "\n",
        "<head>\n",
        "    <meta charset=\"UTF-8\">\n",
        "    <title>AI Demo</title>\n",
        "    <link href=\"https://cdn.bootcss.com/bootstrap/4.0.0/css/bootstrap.min.css\" rel=\"stylesheet\">\n",
        "    <script src=\"https://cdn.bootcss.com/popper.js/1.12.9/umd/popper.min.js\"></script>\n",
        "    <script src=\"https://cdn.bootcss.com/jquery/3.3.1/jquery.min.js\"></script>\n",
        "    <script src=\"https://cdn.bootcss.com/bootstrap/4.0.0/js/bootstrap.min.js\"></script>\n",
        "    <script src=\"https://ajax.googleapis.com/ajax/libs/angularjs/1.6.9/angular.min.js\"></script> \n",
        "    <link href=\"./static/css/main.css\" rel=\"stylesheet\">      \n",
        "</head>\n",
        "\n",
        "<body>\n",
        "    <nav class=\"navbar navbar-dark bg-dark\">\n",
        "        <div class=\"container\">\n",
        "            <a class=\"navbar-brand\" href=\"#\">COVID-19 DETECTION</a>\n",
        "        </div>\n",
        "    </nav>\n",
        "    <div class=\"container\">\n",
        "        <div id=\"content\" style=\"margin-top:2em\">{% block content %}{% endblock %}</div>\n",
        "    </div>\n",
        "\n",
        "<div class=\"new\">\n",
        "    <form id=\"upload-file\" method=\"post\" enctype=\"multipart/form-data\">\n",
        "        <label for=\"imageUpload\" class=\"upload-label\">\n",
        "            Upload a file...\n",
        "        </label>\n",
        "        <input type=\"file\" name=\"file\" id=\"imageUpload\" accept=\".png, .jpg, .jpeg\">\n",
        "    </form>\n",
        "    \n",
        "\n",
        "    <div class=\"image-section\" style=\"display:none;\">\n",
        "        <div class=\"img-preview\">\n",
        "            <div id=\"imagePreview\">\n",
        "            </div>\n",
        "        </div>\n",
        "        <div>\n",
        "            <button type=\"button\" class=\"btn btn-primary btn-lg \" id=\"btn-predict\">Predict!</button>\n",
        "        </div>\n",
        "    </div>\n",
        "\n",
        "\n",
        "    <div class=\"loader\" style=\"display:none;\"></div>\n",
        "\n",
        "    <h3 id=\"result\">\n",
        "        <span> </span>\n",
        "    </h3>\n",
        "\n",
        "    \n",
        "\n",
        "</div>\n",
        "</body>\n",
        "\n",
        "<footer>\n",
        "    <script src=\"./static/js/main.js\" type=\"text/javascript\"></script>    \n",
        "</footer>\n",
        "\n",
        "</html>\n",
        "'''\n",
        "file=open('templates/index.html','w')\n",
        "file.write(index)\n",
        "file.close()"
      ],
      "execution_count": null,
      "outputs": []
    },
    {
      "cell_type": "code",
      "metadata": {
        "id": "MEBhqXTYTpTx"
      },
      "source": [
        "\n",
        "\n",
        "os.mkdir('static/css')"
      ],
      "execution_count": null,
      "outputs": []
    },
    {
      "cell_type": "code",
      "metadata": {
        "id": "2sZMA5_0TrXo"
      },
      "source": [
        "#main.css\n",
        "\n",
        "main='''\n",
        ".img-preview {\n",
        "    width: 256px;\n",
        "    height: 256px;\n",
        "    position: relative;\n",
        "    border: 5px solid #F8F8F8;\n",
        "    box-shadow: 0px 2px 4px 0px rgba(0, 0, 0, 0.1);\n",
        "    margin-top: 1em;\n",
        "    margin-bottom: 1em;   \n",
        "     display: block;\n",
        "     margin-left: auto;\n",
        "     margin-right: auto; \n",
        "}\n",
        "\n",
        ".new{\n",
        "    margin-left: 10px;\n",
        "    justify-content: center;\n",
        "    text-align: center;\n",
        "}\n",
        ".navbar-brand{\n",
        "  text-align: center;\n",
        "}\n",
        "\n",
        ".img-preview>div {\n",
        "    width: 100%;\n",
        "    height: 100%;\n",
        "    background-size: 256px 256px;\n",
        "    background-repeat: no-repeat;\n",
        "    background-position: center;\n",
        "}\n",
        "\n",
        "input[type=\"file\"] {\n",
        "    display: none;\n",
        "}\n",
        "\n",
        ".upload-label{\n",
        "    display: inline-block;\n",
        "    padding: 12px 30px;\n",
        "    background: #39D2B4;\n",
        "    color: #fff;\n",
        "    font-size: 1em;\n",
        "    transition: all .4s;\n",
        "    cursor: pointer;\n",
        "}\n",
        "\n",
        ".upload-label:hover{\n",
        "    background: #34495E;\n",
        "    color: #39D2B4;\n",
        "}\n",
        "\n",
        ".loader {\n",
        "    border: 8px solid #f3f3f3; /* Light grey */\n",
        "    border-top: 8px solid #3498db; /* Blue */\n",
        "    border-radius: 50%;\n",
        "    width: 50px;\n",
        "    height: 50px;\n",
        "    animation: spin 1s linear infinite;\n",
        "    margin:0 auto;\n",
        "}\n",
        "\n",
        "@keyframes spin {\n",
        "    0% { transform: rotate(0deg); }\n",
        "    100% { transform: rotate(360deg); }\n",
        "}\n",
        "'''\n",
        "file=open('static/css/main.css','w')\n",
        "file.write(main)\n",
        "file.close()"
      ],
      "execution_count": null,
      "outputs": []
    },
    {
      "cell_type": "code",
      "metadata": {
        "id": "jZ8h_5noTujT"
      },
      "source": [
        "os.mkdir('static/js')"
      ],
      "execution_count": null,
      "outputs": []
    },
    {
      "cell_type": "code",
      "metadata": {
        "id": "odJvTwguTwef"
      },
      "source": [
        "#main.js\n",
        "\n",
        "main='''\n",
        "$(document).ready(function () {\n",
        "    // Init\n",
        "    $('.image-section').hide();\n",
        "    $('.loader').hide();\n",
        "    $('#result').hide();\n",
        "\n",
        "    // Upload Preview\n",
        "\n",
        "    function readURL(input) {\n",
        "        if (input.files && input.files[0]) {\n",
        "            var reader = new FileReader();\n",
        "            reader.onload = function (e) {\n",
        "                $('#imagePreview').css('background-image', 'url(' + e.target.result + ')');\n",
        "                $('#imagePreview').hide();\n",
        "                $('#imagePreview').fadeIn(650);\n",
        "            }\n",
        "            reader.readAsDataURL(input.files[0]);\n",
        "        }\n",
        "    }\n",
        "    $(\"#imageUpload\").change(function () {\n",
        "        $('.image-section').show();\n",
        "        $('#btn-predict').show();\n",
        "        $('#result').text('');\n",
        "        $('#result').hide();\n",
        "        readURL(this);\n",
        "    });\n",
        "\n",
        "    // Predict\n",
        "    $('#btn-predict').click(function () {\n",
        "        var form_data = new FormData($('#upload-file')[0]);\n",
        "\n",
        "        // Show loading animation\n",
        "        $(this).hide();\n",
        "        $('.loader').show();\n",
        "\n",
        "        // Make prediction by calling api /predict\n",
        "        $.ajax({\n",
        "            type: 'POST',\n",
        "            url: '/predict',\n",
        "            data: form_data,\n",
        "            contentType: false,\n",
        "            cache: false,\n",
        "            processData: false,\n",
        "            async: true,\n",
        "            success: function (data) {\n",
        "                // Get and display the result\n",
        "                $('.loader').hide();\n",
        "                $('#result').fadeIn(600);\n",
        "                $('#result').text(' Result:  '+data);\n",
        "                $('#imagePreview').css('background-image', 'url('+ e.target.result +')');\n",
        "                console.log('Success!');\n",
        "            },\n",
        "        });\n",
        "    });\n",
        "\n",
        "});\n",
        "\n",
        "\n",
        "'''\n",
        "file=open('static/js/main.js','w')\n",
        "file.write(main)\n",
        "file.close()"
      ],
      "execution_count": null,
      "outputs": []
    },
    {
      "cell_type": "code",
      "metadata": {
        "id": "i52Logw1T2is"
      },
      "source": [
        "os.mkdir('uploads')"
      ],
      "execution_count": null,
      "outputs": []
    },
    {
      "cell_type": "code",
      "metadata": {
        "id": "K_RsIT6u6HKj"
      },
      "source": [
        "%pip install -qr /content/drive/MyDrive/Optum/yolov5/requirements.txt  # install dependencies"
      ],
      "execution_count": null,
      "outputs": []
    },
    {
      "cell_type": "code",
      "metadata": {
        "id": "N9txUt5y6SP8"
      },
      "source": [
        "#dependencies\n",
        "\n",
        "import torch\n",
        "from IPython.display import Image, clear_output  # to display images"
      ],
      "execution_count": null,
      "outputs": []
    },
    {
      "cell_type": "code",
      "metadata": {
        "colab": {
          "base_uri": "https://localhost:8080/"
        },
        "id": "G8ctlI1x6S2r",
        "outputId": "15d0cdb5-e530-46d9-bfc5-b9e61eb77cde"
      },
      "source": [
        "#yolov5 setup\n",
        "\n",
        "clear_output()\n",
        "print(f\"Setup complete. Using torch {torch.__version__} ({torch.cuda.get_device_properties(0).name if torch.cuda.is_available() else 'CPU'})\")"
      ],
      "execution_count": null,
      "outputs": [
        {
          "output_type": "stream",
          "text": [
            "Setup complete. Using torch 1.9.0+cu102 (CPU)\n"
          ],
          "name": "stdout"
        }
      ]
    },
    {
      "cell_type": "code",
      "metadata": {
        "id": "UCPF2hSJT4it"
      },
      "source": [
        "#flask dependencies\n",
        "\n",
        "from flask_ngrok import run_with_ngrok\n",
        "import json\n",
        "import requests\n",
        "from flask import request\n",
        "from flask import Flask, redirect, url_for, request, render_template,Response\n",
        "from werkzeug.utils import secure_filename\n",
        "import random"
      ],
      "execution_count": null,
      "outputs": []
    },
    {
      "cell_type": "code",
      "metadata": {
        "id": "ESFI2ybA6Axw"
      },
      "source": [
        "X_pred=[0.71875,0.425781,0.316406,0.558594]"
      ],
      "execution_count": null,
      "outputs": []
    },
    {
      "cell_type": "code",
      "metadata": {
        "colab": {
          "base_uri": "https://localhost:8080/"
        },
        "id": "1Zr9zvtf5470",
        "outputId": "bcf87e46-67b2-414b-dec2-8cfdb892cbb5"
      },
      "source": [
        "#sample code for prediction using classification model\n",
        "\n",
        "#convert the pred list into 2-D np array\n",
        "\n",
        "X_pred=np.array(X_pred)\n",
        "X_pred = np.reshape(X_pred, (1, 4))\n",
        "print(X_pred)\n",
        "\n",
        "#predict the result using svm model\n",
        "\n",
        "prediction=svm.predict(X_pred)\n",
        "print(prediction)"
      ],
      "execution_count": null,
      "outputs": [
        {
          "output_type": "stream",
          "text": [
            "[[0.71875  0.425781 0.316406 0.558594]]\n",
            "[1]\n"
          ],
          "name": "stdout"
        }
      ]
    },
    {
      "cell_type": "markdown",
      "metadata": {
        "id": "ciDe_LZLfg3I"
      },
      "source": [
        "# Predict Image function\n"
      ]
    },
    {
      "cell_type": "code",
      "metadata": {
        "id": "YMGROPJnUmD9"
      },
      "source": [
        "#class 0-->Negative for Pneumonia \n",
        "#class 1-->Typical Appearance \n",
        "#class 2-->Indeterminate Appearance \n",
        "#class 3-->Atypical Appearance\n",
        "\n",
        "def predictImage(filename):\n",
        "\n",
        "  result=['Negative for Pneumonia','Typical Appearance','Indeterminate Appearance','Atypical Appearance']\n",
        "\n",
        "  img_file=filename\n",
        "  tf_name=filename[-16:]\n",
        "  \n",
        "  #tf_name[:-4] -> name of the label text file\n",
        "\n",
        "  fname=tf_name[:-4]\n",
        "  n = random.randint(0,22)\n",
        "  fname=fname+str(n)\n",
        "  \n",
        "  #fname -> name of the folder where the result of test image is stored\n",
        "\n",
        "  #predict the bounding box values\n",
        "  #call detect.py , pass the weights,image path,result storage path\n",
        "\n",
        "  output=!python '/content/drive/MyDrive/Optum/yolov5/detect.py' --weights '/content/drive/MyDrive/Optum/yolov5/runs/train/exp8/weights/best.pt' --source {img_file}  --img 640 --conf 0.281 --project 'test' --name {fname} --save-txt\n",
        "  print(output)\n",
        "\n",
        "  #path of the text file\n",
        "  \n",
        "  txt_file=\"test/\"+ fname + \"/labels/\"+tf_name[:-4]+\".txt\"\n",
        "  \n",
        "  if os.path.isfile(txt_file):\n",
        "    \n",
        "    #read labels from the text file\n",
        "    \n",
        "    f = open(txt_file, \"r\")\n",
        "    res=f.readline()\n",
        "    res=res.rstrip('\\n')\n",
        "    res=res[2:]\n",
        "    X_pred=res.split(\" \")\n",
        "    \n",
        "    #store labels in a list\n",
        "\n",
        "    for i in range(4):\n",
        "      X_pred[i]=float(X_pred[i])\n",
        "    \n",
        "    #convert it into 2-D np array\n",
        "\n",
        "    X_pred=np.array(X_pred)\n",
        "    X_pred = np.reshape(X_pred, (1, 4))\n",
        "    \n",
        "  else:\n",
        "    #labels for class none\n",
        "\n",
        "    X_pred=[0.0,0.0,0.0,0.0]\n",
        "\n",
        "    #convert it into 2-D np array  \n",
        "\n",
        "    X_pred=np.array(X_pred)\n",
        "    X_pred = np.reshape(X_pred, (1, 4))\n",
        "  \n",
        "  #predict result using the svm model\n",
        "\n",
        "  prediction=svm.predict(X_pred)\n",
        "  \n",
        "  #print the result\n",
        "\n",
        "  print(prediction)\n",
        "\n",
        "  #return the class name of the result\n",
        "\n",
        "  return result[prediction[0]]\n"
      ],
      "execution_count": null,
      "outputs": []
    },
    {
      "cell_type": "markdown",
      "metadata": {
        "id": "-6I-eHZlibm7"
      },
      "source": [
        "# Flask App\n"
      ]
    },
    {
      "cell_type": "code",
      "metadata": {
        "colab": {
          "base_uri": "https://localhost:8080/"
        },
        "id": "hcPR5LKzVXWg",
        "outputId": "39d063f1-2725-415a-b30d-85030c1ff718"
      },
      "source": [
        "app=Flask(__name__)\n",
        "run_with_ngrok(app)\n",
        "\n",
        "@app.route('/', methods=['GET'])\n",
        "def index():\n",
        "    # Main page\n",
        "    return render_template('index.html')\n",
        "\n",
        "@app.route('/predict', methods=['GET', 'POST'])\n",
        "def upload():\n",
        "    if request.method == 'POST':\n",
        "        # Get the file from post request\n",
        "        f = request.files['file']\n",
        "\n",
        "        # Save the file to ./uploads\n",
        "        basepath = os.path.dirname('contents')\n",
        "        file_path = os.path.join(\n",
        "            basepath, 'uploads', secure_filename(f.filename))\n",
        "        f.save(file_path)\n",
        "\n",
        "        # Make prediction\n",
        "        preds = predictImage(file_path)\n",
        "        \n",
        "        return preds\n",
        "    return None\n",
        "\n",
        "if __name__ == '__main__':\n",
        "    app.run()"
      ],
      "execution_count": null,
      "outputs": [
        {
          "output_type": "stream",
          "text": [
            " * Serving Flask app \"__main__\" (lazy loading)\n",
            " * Environment: production\n",
            "\u001b[31m   WARNING: This is a development server. Do not use it in a production deployment.\u001b[0m\n",
            "\u001b[2m   Use a production WSGI server instead.\u001b[0m\n",
            " * Debug mode: off\n"
          ],
          "name": "stdout"
        },
        {
          "output_type": "stream",
          "text": [
            " * Running on http://127.0.0.1:5000/ (Press CTRL+C to quit)\n"
          ],
          "name": "stderr"
        },
        {
          "output_type": "stream",
          "text": [
            " * Running on http://d9ead98fc42e.ngrok.io\n",
            " * Traffic stats available on http://127.0.0.1:4040\n"
          ],
          "name": "stdout"
        },
        {
          "output_type": "stream",
          "text": [
            "127.0.0.1 - - [09/Aug/2021 07:00:03] \"\u001b[37mGET / HTTP/1.1\u001b[0m\" 200 -\n",
            "127.0.0.1 - - [09/Aug/2021 07:00:04] \"\u001b[37mGET /static/js/main.js HTTP/1.1\u001b[0m\" 200 -\n",
            "127.0.0.1 - - [09/Aug/2021 07:00:04] \"\u001b[37mGET /static/css/main.css HTTP/1.1\u001b[0m\" 200 -\n",
            "127.0.0.1 - - [09/Aug/2021 07:00:06] \"\u001b[33mGET /favicon.ico HTTP/1.1\u001b[0m\" 404 -\n",
            "127.0.0.1 - - [09/Aug/2021 07:01:06] \"\u001b[37mGET / HTTP/1.1\u001b[0m\" 200 -\n",
            "127.0.0.1 - - [09/Aug/2021 07:01:36] \"\u001b[37mPOST /predict HTTP/1.1\u001b[0m\" 200 -\n"
          ],
          "name": "stderr"
        },
        {
          "output_type": "stream",
          "text": [
            "[\"\\x1b[34m\\x1b[1mdetect: \\x1b[0mweights=['/content/drive/MyDrive/Optum/yolov5/runs/train/exp8/weights/best.pt'], source=uploads/8925b615fc62.png, imgsz=640, conf_thres=0.281, iou_thres=0.45, max_det=1000, device=, view_img=False, save_txt=True, save_conf=False, save_crop=False, nosave=False, classes=None, agnostic_nms=False, augment=False, visualize=False, update=False, project=test, name=8925b615fc6210, exist_ok=False, line_thickness=3, hide_labels=False, hide_conf=False, half=False\", '\\x1b[31m\\x1b[1mrequirements:\\x1b[0m /content/requirements.txt not found, check failed.', 'YOLOv5 🚀 v5.0-319-g63a1971 torch 1.9.0+cu102 CPU', '', 'Fusing layers... ', '/usr/local/lib/python3.7/dist-packages/torch/nn/functional.py:718: UserWarning: Named tensors and all their associated APIs are an experimental feature and subject to change. Please do not use them for anything important until they are released as stable. (Triggered internally at  /pytorch/c10/core/TensorImpl.h:1156.)', '  return torch.max_pool2d(input, kernel_size, stride, padding, dilation, ceil_mode)', 'Model Summary: 224 layers, 7056607 parameters, 0 gradients, 16.3 GFLOPs', 'image 1/1 /content/uploads/8925b615fc62.png: 640x640 Done. (0.461s)', 'Results saved to test/8925b615fc6210', '0 labels saved to test/8925b615fc6210/labels', 'Done. (0.766s)']\n",
            "[0]\n"
          ],
          "name": "stdout"
        },
        {
          "output_type": "stream",
          "text": [
            "127.0.0.1 - - [09/Aug/2021 07:02:27] \"\u001b[37mPOST /predict HTTP/1.1\u001b[0m\" 200 -\n"
          ],
          "name": "stderr"
        },
        {
          "output_type": "stream",
          "text": [
            "[\"\\x1b[34m\\x1b[1mdetect: \\x1b[0mweights=['/content/drive/MyDrive/Optum/yolov5/runs/train/exp8/weights/best.pt'], source=uploads/8866f708d338.png, imgsz=640, conf_thres=0.281, iou_thres=0.45, max_det=1000, device=, view_img=False, save_txt=True, save_conf=False, save_crop=False, nosave=False, classes=None, agnostic_nms=False, augment=False, visualize=False, update=False, project=test, name=8866f708d3384, exist_ok=False, line_thickness=3, hide_labels=False, hide_conf=False, half=False\", '\\x1b[31m\\x1b[1mrequirements:\\x1b[0m /content/requirements.txt not found, check failed.', 'YOLOv5 🚀 v5.0-319-g63a1971 torch 1.9.0+cu102 CPU', '', 'Fusing layers... ', '/usr/local/lib/python3.7/dist-packages/torch/nn/functional.py:718: UserWarning: Named tensors and all their associated APIs are an experimental feature and subject to change. Please do not use them for anything important until they are released as stable. (Triggered internally at  /pytorch/c10/core/TensorImpl.h:1156.)', '  return torch.max_pool2d(input, kernel_size, stride, padding, dilation, ceil_mode)', 'Model Summary: 224 layers, 7056607 parameters, 0 gradients, 16.3 GFLOPs', 'image 1/1 /content/uploads/8866f708d338.png: 544x640 2 opacitys, Done. (0.398s)', 'Results saved to test/8866f708d3384', '1 labels saved to test/8866f708d3384/labels', 'Done. (0.870s)']\n",
            "[1]\n"
          ],
          "name": "stdout"
        }
      ]
    },
    {
      "cell_type": "code",
      "metadata": {
        "colab": {
          "background_save": true
        },
        "id": "t7dymqy6cdZG"
      },
      "source": [
        ""
      ],
      "execution_count": null,
      "outputs": []
    }
  ]
}